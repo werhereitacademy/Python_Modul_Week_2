{
 "cells": [
  {
   "cell_type": "markdown",
   "metadata": {},
   "source": [
    "Question1: Student Grades Processing\n",
    "You need to write a Python program to process a student's grades. The program needs to perform the following functions:\n",
    "\n",
    "Store information and notes for 10 students using a dictionary. Let each student have their name, surname and grades (Midterm, Final and Oral grades). For example:"
   ]
  },
  {
   "cell_type": "code",
   "execution_count": 6,
   "metadata": {},
   "outputs": [],
   "source": [
    "students = {\n",
    "    'Ahmet Yılmaz': [85, 90, 78],  # Midterm: 85, Final: 90, Oral: 78\n",
    "    'Mehmet Demir': [92, 88, 76],  # Midterm: 92, Final: 88, Oral: 76\n",
    "    'Ayşe Kaya': [78, 89, 95],     # Midterm: 78, Final: 89, Oral: 95\n",
    "    'Zeynep Çelik': [65, 70, 80],  # Midterm: 65, Final: 70, Oral: 80\n",
    "    'Ali Kara': [50, 60, 55],      # Midterm: 50, Final: 60, Oral: 55\n",
    "    'Fatma Yıldız': [88, 85, 90],  # Midterm: 88, Final: 85, Oral: 90\n",
    "    'Murat Aydın': [72, 68, 74],   # Midterm: 72, Final: 68, Oral: 74\n",
    "    'Elif Aksoy': [95, 90, 88],    # Midterm: 95, Final: 90, Oral: 88\n",
    "    'Hakan Öztürk': [45, 50, 55],  # Midterm: 45, Final: 50, Oral: 55\n",
    "    'Canan Taş': [80, 75, 82]      # Midterm: 80, Final: 75, Oral: 82\n",
    "}"
   ]
  },
  {
   "cell_type": "markdown",
   "metadata": {},
   "source": [
    "1-Calculate each student's GPA and add it to the dictionary."
   ]
  },
  {
   "cell_type": "code",
   "execution_count": null,
   "metadata": {},
   "outputs": [],
   "source": []
  },
  {
   "cell_type": "markdown",
   "metadata": {},
   "source": [
    "2-Find the student with the highest GPA and print it on the screen."
   ]
  },
  {
   "cell_type": "code",
   "execution_count": null,
   "metadata": {},
   "outputs": [],
   "source": []
  },
  {
   "cell_type": "markdown",
   "metadata": {},
   "source": [
    "\n",
    "3- Separate each student's name from their surname and store them in a separate tuple and add them to a list."
   ]
  },
  {
   "cell_type": "code",
   "execution_count": null,
   "metadata": {},
   "outputs": [],
   "source": []
  },
  {
   "cell_type": "markdown",
   "metadata": {
    "slideshow": {
     "slide_type": "notes"
    }
   },
   "source": [
    "4-Sort the names in alphabetical order and print the sorted list on the screen."
   ]
  },
  {
   "cell_type": "code",
   "execution_count": null,
   "metadata": {},
   "outputs": [],
   "source": []
  },
  {
   "cell_type": "markdown",
   "metadata": {
    "slideshow": {
     "slide_type": "notes"
    }
   },
   "source": [
    "5-Keep students with a GPA below 70 in a cluster (set)."
   ]
  },
  {
   "cell_type": "code",
   "execution_count": null,
   "metadata": {},
   "outputs": [],
   "source": []
  }
 ],
 "metadata": {
  "kernelspec": {
   "display_name": "Python 3",
   "language": "python",
   "name": "python3"
  },
  "language_info": {
   "codemirror_mode": {
    "name": "ipython",
    "version": 3
   },
   "file_extension": ".py",
   "mimetype": "text/x-python",
   "name": "python",
   "nbconvert_exporter": "python",
   "pygments_lexer": "ipython3",
   "version": "3.13.3"
  }
 },
 "nbformat": 4,
 "nbformat_minor": 2
}
