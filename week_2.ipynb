{
 "cells": [
  {
   "cell_type": "code",
   "execution_count": 7,
   "metadata": {},
   "outputs": [
    {
     "name": "stdout",
     "output_type": "stream",
     "text": [
      "Student with highest GPA:  {'name': 'm k', 'firstname': ('m',), 'lastname': ('k',), 'midterm': 80, 'final': 90, 'oral': 90, 'gpa': 86}\n",
      "Sorted names:  ['j d', 'm k', 'y t']\n",
      "Students with GPA below 70:  {'j d', 'y t'}\n",
      "{'j d': {'name': 'j d', 'firstname': ('j',), 'lastname': ('d',), 'midterm': 10, 'final': 20, 'oral': 30, 'gpa': 20}, 'm k': {'name': 'm k', 'firstname': ('m',), 'lastname': ('k',), 'midterm': 80, 'final': 90, 'oral': 90, 'gpa': 86}, 'y t': {'name': 'y t', 'firstname': ('y',), 'lastname': ('t',), 'midterm': 70, 'final': 60, 'oral': 70, 'gpa': 66}}\n"
     ]
    }
   ],
   "source": [
    "'''\n",
    "Store information and notes for 10 students using a dictionary. Let each student have their name, surname and grades (Midterm, Final and Oral grades). For example:\n",
    "\n",
    "1-Calculate each student's GPA and add it to the dictionary.\n",
    "\n",
    "2-Find the student with the highest GPA and print it on the screen.\n",
    "\n",
    "3- Separate each student's name from their surname and store them in a separate tuple and add them to a list.\n",
    "\n",
    "4-Sort the names in alphabetical order and print the sorted list on the screen.\n",
    "\n",
    "5-Keep students with a GPA below 70 in a cluster (set).\n",
    "'''\n",
    "\n",
    "students = {}\n",
    "\n",
    "for i in range(3):\n",
    "    name = input(\"Enter student name: \")\n",
    "    midterm = int(input(\"Enter midterm grade: \"))\n",
    "    final = int(input(\"Enter final grade: \"))\n",
    "    oral = int(input(\"Enter oral grade: \"))\n",
    "    gpa = (midterm + final + oral) // 3 #1-Calculate each student's GPA and add it to the dictionary.\n",
    "    firstname, lastname = name.split(\" \") #3-Separate each student's name from their surname and store them in a separate tuple and add them to a list.\n",
    "    students[name] = {\"name\": name, \"firstname\": (firstname,), \"lastname\": (lastname,), \"midterm\": midterm, \"final\": final, \"oral\": oral, \"gpa\": gpa}\n",
    "\n",
    "student_with_highest_gpa = max(students, key=lambda x: students[x][\"gpa\"]) #2-Find the student with the highest GPA and print it on the screen.\n",
    "print(\"Student with highest GPA: \", students[student_with_highest_gpa])\n",
    "sorted_names = sorted([students[x][\"name\"] for x in students]) #4-Sort the names in alphabetical order and print the sorted list on the screen.\n",
    "print(\"Sorted names: \", sorted_names)\n",
    "students_below_70 = {x for x in students if students[x][\"gpa\"] < 70} #5-Keep students with a GPA below 70 in a cluster (set).\n",
    "print(\"Students with GPA below 70: \", students_below_70)"
   ]
  }
 ],
 "metadata": {
  "kernelspec": {
   "display_name": "Python 3",
   "language": "python",
   "name": "python3"
  },
  "language_info": {
   "codemirror_mode": {
    "name": "ipython",
    "version": 3
   },
   "file_extension": ".py",
   "mimetype": "text/x-python",
   "name": "python",
   "nbconvert_exporter": "python",
   "pygments_lexer": "ipython3",
   "version": "3.12.3"
  }
 },
 "nbformat": 4,
 "nbformat_minor": 2
}
