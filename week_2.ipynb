{
 "cells": [
  {
   "cell_type": "code",
   "execution_count": 4,
   "metadata": {},
   "outputs": [
    {
     "name": "stdout",
     "output_type": "stream",
     "text": [
      "{'john doe': {'midterm': 60, 'final': 70, 'oral': 50, 'name': 'john doe', 'gpa': 60}}\n"
     ]
    }
   ],
   "source": [
    "'''\n",
    "Store information and notes for 10 students using a dictionary. Let each student have their name, surname and grades (Midterm, Final and Oral grades). For example:\n",
    "\n",
    "1-Calculate each student's GPA and add it to the dictionary.\n",
    "'''\n",
    "\n",
    "students = {}\n",
    "\n",
    "for i in range(1):\n",
    "    name = input(\"Enter student name: \")\n",
    "    midterm = int(input(\"Enter midterm grade: \"))\n",
    "    final = int(input(\"Enter final grade: \"))\n",
    "    oral = int(input(\"Enter oral grade: \"))\n",
    "    gpa = (midterm + final + oral) // 3\n",
    "    students[name] = {\"midterm\": midterm, \"final\": final, \"oral\": oral, \"name\": name, \"gpa\": gpa}\n",
    "    \n",
    "print(students)"
   ]
  }
 ],
 "metadata": {
  "kernelspec": {
   "display_name": "Python 3",
   "language": "python",
   "name": "python3"
  },
  "language_info": {
   "codemirror_mode": {
    "name": "ipython",
    "version": 3
   },
   "file_extension": ".py",
   "mimetype": "text/x-python",
   "name": "python",
   "nbconvert_exporter": "python",
   "pygments_lexer": "ipython3",
   "version": "3.12.3"
  }
 },
 "nbformat": 4,
 "nbformat_minor": 2
}
