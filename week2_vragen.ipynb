{
 "cells": [
  {
   "cell_type": "code",
   "execution_count": null,
   "id": "0222acb3",
   "metadata": {},
   "outputs": [
    {
     "name": "stdout",
     "output_type": "stream",
     "text": [
      "Ali Salem : 79.33\n",
      "Ahmed Ali : 90.00\n",
      "Sara Ahmed  : 83.33\n",
      "Hassan Mohamed  : 80.00\n",
      "Fatima Ali : 91.67\n",
      "Omar Khaled : 80.00\n",
      "Laila Ahmed : 90.00\n",
      "Salem Ali : 82.33\n",
      "Mona Ahmed  : 85.33\n",
      "Youssef Mohamed : 78.00\n"
     ]
    }
   ],
   "source": [
    "#q 1 : \n",
    "students={\n",
    "    'Ali Salem' : [80,70,88],\n",
    "    'Ahmed Ali' : [90,85,95],\n",
    "    'Sara Ahmed ': [78,82,90],\n",
    "    'Hassan Mohamed ': [85,80,75],\n",
    "    'Fatima Ali' : [92,88,95],\n",
    "    'Omar Khaled' : [75,80,85],\n",
    "    'Laila Ahmed' : [88,90,92],\n",
    "    'Salem Ali': [80,90,77],\n",
    "    'Mona Ahmed ' : [90,80,86],\n",
    "    'Youssef Mohamed': [88,69,77]\n",
    "}\n",
    "GPA = 0\n",
    "for student, grades in students.items():\n",
    "    GPA = sum(grades) / len(grades)\n",
    "    print(f\"{student} : {GPA:.2f}\")\n"
   ]
  }
 ],
 "metadata": {
  "kernelspec": {
   "display_name": "Python 3",
   "language": "python",
   "name": "python3"
  },
  "language_info": {
   "codemirror_mode": {
    "name": "ipython",
    "version": 3
   },
   "file_extension": ".py",
   "mimetype": "text/x-python",
   "name": "python",
   "nbconvert_exporter": "python",
   "pygments_lexer": "ipython3",
   "version": "3.10.11"
  }
 },
 "nbformat": 4,
 "nbformat_minor": 5
}
